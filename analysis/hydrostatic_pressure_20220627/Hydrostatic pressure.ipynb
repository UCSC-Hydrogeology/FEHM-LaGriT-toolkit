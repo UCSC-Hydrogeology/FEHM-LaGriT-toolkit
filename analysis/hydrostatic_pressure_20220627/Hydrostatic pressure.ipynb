{
 "cells": [
  {
   "cell_type": "code",
   "execution_count": 1,
   "id": "9da84691",
   "metadata": {},
   "outputs": [],
   "source": [
    "import logging\n",
    "from os.path import expanduser\n",
    "from pathlib import Path\n",
    "\n",
    "from matplotlib import pyplot as plt\n",
    "import pandas as pd\n",
    "import yaml\n",
    "\n",
    "from fehm_toolkit.hydrostatic_pressure import generate_hydrostatic_pressure_file\n",
    "from fehm_toolkit.file_interface import read_grid, read_pressure"
   ]
  },
  {
   "cell_type": "code",
   "execution_count": 2,
   "id": "31b75f76",
   "metadata": {},
   "outputs": [],
   "source": [
    "%matplotlib inline"
   ]
  },
  {
   "cell_type": "code",
   "execution_count": 3,
   "id": "fe342c59",
   "metadata": {},
   "outputs": [],
   "source": [
    "logging.basicConfig(level=logging.INFO, format='%(asctime)s (%(levelname)s) %(message)s')"
   ]
  },
  {
   "cell_type": "code",
   "execution_count": 4,
   "id": "cddfa203",
   "metadata": {},
   "outputs": [],
   "source": [
    "toolkit_dir = Path(expanduser('~/repos/fehmToolkit'))\n",
    "water_properties_path = toolkit_dir / 'test' / 'end_to_end' / 'fixtures' / 'nist120-1800.out'"
   ]
  },
  {
   "cell_type": "markdown",
   "id": "4ca0b5b8",
   "metadata": {},
   "source": [
    "# Assess similarity in explicit vs interpolated pressures"
   ]
  },
  {
   "cell_type": "markdown",
   "id": "46e5b176",
   "metadata": {},
   "source": [
    "## Flat box"
   ]
  },
  {
   "cell_type": "code",
   "execution_count": 5,
   "id": "ffb1eea8",
   "metadata": {},
   "outputs": [],
   "source": [
    "flat_box_dir = toolkit_dir / 'test' / 'end_to_end' / 'fixtures' / 'flat_box' / 'cond'"
   ]
  },
  {
   "cell_type": "markdown",
   "id": "ea97bdee",
   "metadata": {},
   "source": [
    "### Explicit hydrostatic pressures"
   ]
  },
  {
   "cell_type": "code",
   "execution_count": 6,
   "id": "aa63da17",
   "metadata": {},
   "outputs": [
    {
     "name": "stderr",
     "output_type": "stream",
     "text": [
      "2022-06-27 16:29:06,365 (INFO) Reading configuration file: flat_box_explicit_config.yaml\n",
      "2022-06-27 16:29:06,368 (INFO) Reading water properties lookup\n",
      "2022-06-27 16:29:07,157 (INFO) Reading node data into memory\n",
      "2022-06-27 16:29:07,164 (INFO) Generating temperature lookups\n",
      "2022-06-27 16:29:07,165 (INFO) Calculating explicit pressures for 194/194 nodes\n",
      "2022-06-27 16:29:07,661 (INFO) Pressures calculated: 194 / 194\n",
      "2022-06-27 16:29:07,666 (INFO) Sampling with spacing:\n",
      "    x:      20.41\n",
      "    y:      20.41\n",
      "    z:     210.53\n",
      "2022-06-27 16:29:07,667 (INFO) Calculating explicit pressures for 2500 sampled columns.\n",
      "2022-06-27 16:29:07,668 (INFO) Pressures calculated:   0%\n",
      "2022-06-27 16:29:09,276 (INFO) Pressures calculated:  20%\n",
      "2022-06-27 16:29:10,920 (INFO) Pressures calculated:  40%\n",
      "2022-06-27 16:29:12,579 (INFO) Pressures calculated:  60%\n",
      "2022-06-27 16:29:14,425 (INFO) Pressures calculated:  80%\n",
      "2022-06-27 16:29:15,947 (INFO) Pressures calculated:  98%\n",
      "2022-06-27 16:29:16,113 (INFO) Interpolating remaining node pressures\n",
      "2022-06-27 16:29:16,114 (INFO) Writing pressures to file flat_box_explicit.iap\n"
     ]
    }
   ],
   "source": [
    "explicit_config_path = Path('./flat_box_explicit_config.yaml')\n",
    "explicit_config = {\n",
    "    'hydrostatic_pressure': {\n",
    "        'model_kind': 'depth',\n",
    "        'model_params': {\n",
    "            'z_interval_m': 5,\n",
    "            'reference_z': 4450,\n",
    "            'reference_pressure_MPa': 25,\n",
    "            'reference_temperature_degC': 2,\n",
    "        },\n",
    "        'interpolation_kind': 'regular_grid',\n",
    "        'interpolation_params': {\n",
    "            'x_samples': 50,\n",
    "            'y_samples': 50,\n",
    "            'z_samples': 20,\n",
    "        },\n",
    "        'sampling_config': {\n",
    "            'explicit_material_zones': [1, 2, 3],\n",
    "        },\n",
    "    }\n",
    "}\n",
    "with open(explicit_config_path, 'w') as f:\n",
    "    yaml.dump(explicit_config, f, Dumper=yaml.Dumper)\n",
    "\n",
    "explicit_pressures_path = Path('flat_box_explicit.iap')\n",
    "generate_hydrostatic_pressure_file(\n",
    "    config_file=explicit_config_path,\n",
    "    fehm_file=flat_box_dir / 'cond.fehm',\n",
    "    outside_zone_file=flat_box_dir / 'cond_outside.zone',\n",
    "    material_zone_file=flat_box_dir / 'cond_material.zone',\n",
    "    restart_file=flat_box_dir / 'cond.fin',\n",
    "    water_properties_file=water_properties_path,\n",
    "    output_file=explicit_pressures_path,\n",
    ")"
   ]
  },
  {
   "cell_type": "markdown",
   "id": "5c453485",
   "metadata": {},
   "source": [
    "### Sampled hydrostatic pressures"
   ]
  },
  {
   "cell_type": "code",
   "execution_count": 7,
   "id": "bbfe76c7",
   "metadata": {},
   "outputs": [
    {
     "name": "stderr",
     "output_type": "stream",
     "text": [
      "2022-06-27 16:29:16,126 (INFO) Reading configuration file: flat_box_sampled_config.yaml\n",
      "2022-06-27 16:29:16,130 (INFO) Reading water properties lookup\n",
      "2022-06-27 16:29:16,929 (INFO) Reading node data into memory\n",
      "2022-06-27 16:29:16,936 (INFO) Generating temperature lookups\n",
      "2022-06-27 16:29:16,937 (INFO) Calculating explicit pressures for 9/194 nodes\n",
      "2022-06-27 16:29:17,153 (INFO) Pressures calculated: 9 / 9\n",
      "2022-06-27 16:29:17,156 (INFO) Sampling with spacing:\n",
      "    x:     333.33\n",
      "    y:     333.33\n",
      "    z:      40.40\n",
      "2022-06-27 16:29:17,157 (INFO) Calculating explicit pressures for 16 sampled columns.\n",
      "2022-06-27 16:29:17,158 (INFO) Pressures calculated:   0%\n",
      "2022-06-27 16:29:17,209 (INFO) Pressures calculated:  75%\n",
      "2022-06-27 16:29:17,226 (INFO) Interpolating remaining node pressures\n",
      "2022-06-27 16:29:17,228 (INFO) Writing pressures to file flat_box_sampled.iap\n"
     ]
    }
   ],
   "source": [
    "sampled_config_path = Path('./flat_box_sampled_config.yaml')\n",
    "sampled_config = {\n",
    "    'hydrostatic_pressure': {\n",
    "        'model_kind': 'depth',\n",
    "        'model_params': {\n",
    "            'z_interval_m': 5,\n",
    "            'reference_z': 4450,\n",
    "            'reference_pressure_MPa': 25,\n",
    "            'reference_temperature_degC': 2,\n",
    "        },\n",
    "        'interpolation_kind': 'regular_grid',\n",
    "        'interpolation_params': {\n",
    "            'x_samples': 4,\n",
    "            'y_samples': 4,\n",
    "            'z_samples': 100,\n",
    "        },\n",
    "        'sampling_config': {\n",
    "            'explicit_outside_zones': ['top'],\n",
    "        },\n",
    "    }\n",
    "}\n",
    "with open(sampled_config_path, 'w') as f:\n",
    "    yaml.dump(sampled_config, f, Dumper=yaml.Dumper)\n",
    "\n",
    "sampled_pressures_path = Path('flat_box_sampled.iap')\n",
    "generate_hydrostatic_pressure_file(\n",
    "    config_file=sampled_config_path,\n",
    "    fehm_file=flat_box_dir / 'cond.fehm',\n",
    "    outside_zone_file=flat_box_dir / 'cond_outside.zone',\n",
    "    material_zone_file=flat_box_dir / 'cond_material.zone',\n",
    "    restart_file=flat_box_dir / 'cond.fin',\n",
    "    water_properties_file=flat_box_dir.parent.parent / 'nist120-1800.out',\n",
    "    output_file=sampled_pressures_path,\n",
    ")"
   ]
  },
  {
   "cell_type": "markdown",
   "id": "a4364372",
   "metadata": {},
   "source": [
    "### Compare flat box"
   ]
  },
  {
   "cell_type": "code",
   "execution_count": 8,
   "id": "6ce9c446",
   "metadata": {},
   "outputs": [],
   "source": [
    "explicit_pressures = pd.Series(read_pressure(explicit_pressures_path)) * 1000 # kPa\n",
    "sampled_pressures = pd.Series(read_pressure(sampled_pressures_path)) * 1000 # kPa"
   ]
  },
  {
   "cell_type": "code",
   "execution_count": 9,
   "id": "db1f1670",
   "metadata": {},
   "outputs": [
    {
     "data": {
      "text/plain": [
       "<AxesSubplot:>"
      ]
     },
     "execution_count": 9,
     "metadata": {},
     "output_type": "execute_result"
    },
    {
     "data": {
      "image/png": "[encoded data removed]",
      "text/plain": [
       "<Figure size 432x288 with 1 Axes>"
      ]
     },
     "metadata": {
      "needs_background": "light"
     },
     "output_type": "display_data"
    }
   ],
   "source": [
    "(sampled_pressures - explicit_pressures).hist(bins=30)"
   ]
  },
  {
   "cell_type": "markdown",
   "id": "8daa039b",
   "metadata": {},
   "source": [
    "# NP 2D"
   ]
  },
  {
   "cell_type": "code",
   "execution_count": 10,
   "id": "7d07867d",
   "metadata": {},
   "outputs": [],
   "source": [
    "model_dir = toolkit_dir / 'matlab_archive' / 'test' / 'fixtures' / 'np2d_cond'\n",
    "model_root = 'cond'\n",
    "\n",
    "sampled_config_path = Path('./model_sampled_config.yaml')\n",
    "sampled_pressures_path = Path('model_sampled.iap')\n",
    "explicit_pressures_path = model_dir / f'{model_root}.iap'"
   ]
  },
  {
   "cell_type": "code",
   "execution_count": 11,
   "id": "20b38911",
   "metadata": {},
   "outputs": [],
   "source": [
    "sampled_config = {\n",
    "    'hydrostatic_pressure': {\n",
    "        'model_kind': 'depth',\n",
    "        'model_params': {\n",
    "            'z_interval_m': 5,\n",
    "            'reference_z': 4174.31,\n",
    "            'reference_pressure_MPa': 45.289,\n",
    "            'reference_temperature_degC': 2,\n",
    "        },\n",
    "        'interpolation_kind': 'regular_grid',\n",
    "        'interpolation_params': {\n",
    "            'x_samples': 100,\n",
    "            'z_samples': 1000,\n",
    "        },\n",
    "        'sampling_config': {\n",
    "#             'explicit_nodes': [1, 2, 3],\n",
    "            'explicit_material_zones': [1, 2, 3, 4, 5, 6],\n",
    "#             'explicit_outside_zones': ['top'],\n",
    "        },\n",
    "    }\n",
    "}\n",
    "with open(sampled_config_path, 'w') as f:\n",
    "    yaml.dump(sampled_config, f, Dumper=yaml.Dumper)"
   ]
  },
  {
   "cell_type": "code",
   "execution_count": 12,
   "id": "995d3a16",
   "metadata": {},
   "outputs": [
    {
     "name": "stderr",
     "output_type": "stream",
     "text": [
      "2022-06-27 16:29:17,453 (INFO) Reading configuration file: model_sampled_config.yaml\n",
      "2022-06-27 16:29:17,459 (INFO) Reading water properties lookup\n",
      "2022-06-27 16:29:18,275 (INFO) Reading node data into memory\n",
      "2022-06-27 16:29:19,786 (INFO) Generating temperature lookups\n",
      "2022-06-27 16:29:19,799 (INFO) Calculating explicit pressures for 35840/35840 nodes\n",
      "2022-06-27 16:29:33,489 (INFO) Pressures calculated: 10000 / 35840\n",
      "2022-06-27 16:29:47,421 (INFO) Pressures calculated: 20000 / 35840\n",
      "2022-06-27 16:30:02,047 (INFO) Pressures calculated: 30000 / 35840\n",
      "2022-06-27 16:30:11,980 (INFO) Pressures calculated: 35840 / 35840\n",
      "2022-06-27 16:30:11,986 (INFO) Sampling with spacing:\n",
      "    x:     254.55\n",
      "    z:       4.63\n",
      "2022-06-27 16:30:11,987 (INFO) Calculating explicit pressures for 100 sampled columns.\n",
      "2022-06-27 16:30:11,987 (INFO) Pressures calculated:   0%\n",
      "2022-06-27 16:30:12,033 (INFO) Pressures calculated:  10%\n",
      "2022-06-27 16:30:12,081 (INFO) Pressures calculated:  20%\n",
      "2022-06-27 16:30:12,127 (INFO) Pressures calculated:  30%\n",
      "2022-06-27 16:30:12,173 (INFO) Pressures calculated:  40%\n",
      "2022-06-27 16:30:12,222 (INFO) Pressures calculated:  50%\n",
      "2022-06-27 16:30:12,267 (INFO) Pressures calculated:  60%\n",
      "2022-06-27 16:30:12,308 (INFO) Pressures calculated:  70%\n",
      "2022-06-27 16:30:12,349 (INFO) Pressures calculated:  80%\n",
      "2022-06-27 16:30:12,391 (INFO) Pressures calculated:  90%\n",
      "2022-06-27 16:30:12,429 (INFO) Pressures calculated:  99%\n",
      "2022-06-27 16:30:12,434 (INFO) Interpolating remaining node pressures\n",
      "2022-06-27 16:30:12,437 (INFO) Writing pressures to file model_sampled.iap\n"
     ]
    }
   ],
   "source": [
    "generate_hydrostatic_pressure_file(\n",
    "    config_file=sampled_config_path,\n",
    "    fehm_file=model_dir / f'{model_root}.fehm',\n",
    "    outside_zone_file=model_dir / f'{model_root}_outside.zone',\n",
    "    material_zone_file=model_dir / f'{model_root}_material.zone',\n",
    "    restart_file=model_dir / f'{model_root}.fin',\n",
    "    water_properties_file=water_properties_path,\n",
    "    output_file=sampled_pressures_path,\n",
    ")"
   ]
  },
  {
   "cell_type": "code",
   "execution_count": 13,
   "id": "49a5ad87",
   "metadata": {},
   "outputs": [],
   "source": [
    "grid = read_grid(\n",
    "    fehm_file=model_dir / f'{model_root}.fehm',\n",
    "    outside_zone_file=model_dir / f'{model_root}_outside.zone',\n",
    "    material_zone_file=model_dir / f'{model_root}_material.zone',\n",
    "    read_elements=False,\n",
    ")\n",
    "\n",
    "x, y, z, depth = {}, {}, {}, {}\n",
    "for node in grid.nodes:\n",
    "    x[node.number] = node.x\n",
    "    y[node.number] = node.y\n",
    "    z[node.number] = node.z\n",
    "    depth[node.number] = node.depth\n",
    "\n",
    "single_material_zone = {\n",
    "    node_number: zone.number\n",
    "    for zone in grid.material_zones\n",
    "    for node_number in zone.data\n",
    "}\n",
    "single_outside_zone = {\n",
    "    node_number: zone.name\n",
    "    for zone in grid.outside_zones\n",
    "    for node_number in zone.data\n",
    "}\n",
    "\n",
    "df = pd.DataFrame(data={\n",
    "    'x': x,\n",
    "    'y': y,\n",
    "    'z': z,\n",
    "    'depth': depth,\n",
    "    'material_zone': single_material_zone,\n",
    "    'outside_zone': single_outside_zone,\n",
    "    'explicit_pressures': {n: p for n, p in enumerate(read_pressure(explicit_pressures_path), start=1)},\n",
    "    'sampled_pressures': {n: p for n, p in enumerate(read_pressure(sampled_pressures_path), start=1)},\n",
    "})\n",
    "\n",
    "df['explicit_pressures'] = df.explicit_pressures * 1000 # kPa\n",
    "df['sampled_pressures'] = df.sampled_pressures * 1000 # kPa\n",
    "df['pressure_diff'] = df.sampled_pressures - df.explicit_pressures"
   ]
  },
  {
   "cell_type": "code",
   "execution_count": 14,
   "id": "8ebdd2ae",
   "metadata": {},
   "outputs": [
    {
     "data": {
      "text/plain": [
       "<AxesSubplot:>"
      ]
     },
     "execution_count": 14,
     "metadata": {},
     "output_type": "execute_result"
    },
    {
     "data": {
      "image/png": "[encoded data removed]",
      "text/plain": [
       "<Figure size 432x288 with 1 Axes>"
      ]
     },
     "metadata": {
      "needs_background": "light"
     },
     "output_type": "display_data"
    }
   ],
   "source": [
    "df.pressure_diff.hist(bins=30)"
   ]
  },
  {
   "cell_type": "markdown",
   "id": "ee7fcc38",
   "metadata": {},
   "source": [
    "# JdF 3D"
   ]
  },
  {
   "cell_type": "code",
   "execution_count": 15,
   "id": "91338e4b",
   "metadata": {},
   "outputs": [],
   "source": [
    "model_dir = toolkit_dir / 'matlab_archive' / 'test' / 'fixtures' / 'jdf3d_conduit_p12'\n",
    "model_root = 'p12'\n",
    "\n",
    "sampled_config_path = Path('./model_sampled_config.yaml')\n",
    "sampled_pressures_path = Path('model_sampled.iap')\n",
    "explicit_pressures_path = model_dir / f'{model_root}.iap'"
   ]
  },
  {
   "cell_type": "code",
   "execution_count": 16,
   "id": "752e5850",
   "metadata": {},
   "outputs": [],
   "source": [
    "sampled_config = {\n",
    "    'hydrostatic_pressure': {\n",
    "        'model_kind': 'depth',\n",
    "        'model_params': {\n",
    "            'z_interval_m': 5,\n",
    "            'reference_z': 4450,\n",
    "            'reference_pressure_MPa': 25,\n",
    "            'reference_temperature_degC': 2,\n",
    "        },\n",
    "        'interpolation_kind': 'regular_grid',\n",
    "        'interpolation_params': {\n",
    "            'x_samples': 80,\n",
    "            'y_samples': 160,\n",
    "            'z_samples': 500,\n",
    "        },\n",
    "        'sampling_config': {\n",
    "#             'explicit_nodes': [1, 2, 3],\n",
    "            'explicit_outside_zones': ['top'],\n",
    "        },\n",
    "    }\n",
    "}\n",
    "with open(sampled_config_path, 'w') as f:\n",
    "    yaml.dump(sampled_config, f, Dumper=yaml.Dumper)"
   ]
  },
  {
   "cell_type": "code",
   "execution_count": 17,
   "id": "799ba993",
   "metadata": {},
   "outputs": [
    {
     "name": "stderr",
     "output_type": "stream",
     "text": [
      "2022-06-27 16:30:14,236 (INFO) Reading configuration file: model_sampled_config.yaml\n",
      "2022-06-27 16:30:14,240 (INFO) Reading water properties lookup\n",
      "2022-06-27 16:30:14,997 (INFO) Reading node data into memory\n",
      "2022-06-27 16:30:22,367 (INFO) Generating temperature lookups\n",
      "2022-06-27 16:30:22,492 (INFO) Calculating explicit pressures for 29453/396508 nodes\n",
      "2022-06-27 16:30:30,855 (INFO) Pressures calculated: 10000 / 29453\n",
      "2022-06-27 16:30:39,021 (INFO) Pressures calculated: 20000 / 29453\n",
      "2022-06-27 16:30:46,783 (INFO) Pressures calculated: 29453 / 29453\n",
      "2022-06-27 16:30:46,795 (INFO) Sampling with spacing:\n",
      "    x:    1012.66\n",
      "    y:     817.61\n",
      "    z:       9.02\n",
      "2022-06-27 16:30:46,796 (INFO) Calculating explicit pressures for 12800 sampled columns.\n",
      "2022-06-27 16:30:46,797 (INFO) Pressures calculated:   0%\n",
      "2022-06-27 16:30:52,898 (INFO) Pressures calculated:  12%\n",
      "2022-06-27 16:30:58,976 (INFO) Pressures calculated:  25%\n",
      "2022-06-27 16:31:04,964 (INFO) Pressures calculated:  38%\n",
      "2022-06-27 16:31:11,089 (INFO) Pressures calculated:  50%\n",
      "2022-06-27 16:31:17,124 (INFO) Pressures calculated:  62%\n",
      "2022-06-27 16:31:23,211 (INFO) Pressures calculated:  75%\n",
      "2022-06-27 16:31:29,185 (INFO) Pressures calculated:  88%\n",
      "2022-06-27 16:31:34,876 (INFO) Pressures calculated:  99%\n",
      "2022-06-27 16:31:35,464 (INFO) Interpolating remaining node pressures\n",
      "2022-06-27 16:31:35,795 (INFO) Writing pressures to file model_sampled.iap\n"
     ]
    }
   ],
   "source": [
    "generate_hydrostatic_pressure_file(\n",
    "    config_file=sampled_config_path,\n",
    "    fehm_file=model_dir / f'{model_root}.fehm',\n",
    "    outside_zone_file=model_dir / f'{model_root}_outside.zone',\n",
    "    material_zone_file=model_dir / f'{model_root}_material.zone',\n",
    "    restart_file=model_dir / f'cond.fin', # using cond\n",
    "    water_properties_file=water_properties_path,\n",
    "    output_file=sampled_pressures_path,\n",
    ")"
   ]
  },
  {
   "cell_type": "markdown",
   "id": "1ba5ba5e",
   "metadata": {},
   "source": [
    "### Compare model pressures"
   ]
  },
  {
   "cell_type": "code",
   "execution_count": 18,
   "id": "a2052e56",
   "metadata": {},
   "outputs": [],
   "source": [
    "grid = read_grid(\n",
    "    fehm_file=model_dir / f'{model_root}.fehm',\n",
    "    outside_zone_file=model_dir / f'{model_root}_outside.zone',\n",
    "    material_zone_file=model_dir / f'{model_root}_material.zone',\n",
    "    read_elements=False,\n",
    ")\n",
    "\n",
    "x, y, z, depth = {}, {}, {}, {}\n",
    "for node in grid.nodes:\n",
    "    x[node.number] = node.x\n",
    "    y[node.number] = node.y\n",
    "    z[node.number] = node.z\n",
    "    depth[node.number] = node.depth\n",
    "\n",
    "single_material_zone = {\n",
    "    node_number: zone.number\n",
    "    for zone in grid.material_zones\n",
    "    for node_number in zone.data\n",
    "}\n",
    "single_outside_zone = {\n",
    "    node_number: zone.name\n",
    "    for zone in grid.outside_zones\n",
    "    for node_number in zone.data\n",
    "}\n",
    "\n",
    "df = pd.DataFrame(data={\n",
    "    'x': x,\n",
    "    'y': y,\n",
    "    'z': z,\n",
    "    'depth': depth,\n",
    "    'material_zone': single_material_zone,\n",
    "    'outside_zone': single_outside_zone,\n",
    "    'explicit_pressures': {n: p for n, p in enumerate(read_pressure(explicit_pressures_path), start=1)},\n",
    "    'sampled_pressures': {n: p for n, p in enumerate(read_pressure(sampled_pressures_path), start=1)},\n",
    "})\n",
    "\n",
    "df['explicit_pressures'] = df.explicit_pressures * 1000 # kPa\n",
    "df['sampled_pressures'] = df.sampled_pressures * 1000 # kPa\n",
    "df['pressure_diff'] = df.sampled_pressures - df.explicit_pressures"
   ]
  },
  {
   "cell_type": "code",
   "execution_count": 19,
   "id": "a385d229",
   "metadata": {},
   "outputs": [
    {
     "data": {
      "text/plain": [
       "<AxesSubplot:>"
      ]
     },
     "execution_count": 19,
     "metadata": {},
     "output_type": "execute_result"
    },
    {
     "data": {
      "image/png": "[encoded data removed]",
      "text/plain": [
       "<Figure size 432x288 with 1 Axes>"
      ]
     },
     "metadata": {
      "needs_background": "light"
     },
     "output_type": "display_data"
    }
   ],
   "source": [
    "df.pressure_diff.hist(bins=30)"
   ]
  },
  {
   "cell_type": "code",
   "execution_count": 20,
   "id": "d5f41792",
   "metadata": {},
   "outputs": [
    {
     "data": {
      "text/plain": [
       "<AxesSubplot:>"
      ]
     },
     "execution_count": 20,
     "metadata": {},
     "output_type": "execute_result"
    },
    {
     "data": {
      "image/png": "[encoded data removed]",
      "text/plain": [
       "<Figure size 432x288 with 1 Axes>"
      ]
     },
     "metadata": {
      "needs_background": "light"
     },
     "output_type": "display_data"
    }
   ],
   "source": [
    "df[df.outside_zone == 'top'].pressure_diff.hist(bins=30)"
   ]
  },
  {
   "cell_type": "code",
   "execution_count": 21,
   "id": "28204f8a",
   "metadata": {},
   "outputs": [
    {
     "data": {
      "text/plain": [
       "<AxesSubplot:>"
      ]
     },
     "execution_count": 21,
     "metadata": {},
     "output_type": "execute_result"
    },
    {
     "data": {
      "image/png": "[encoded data removed]",
      "text/plain": [
       "<Figure size 432x288 with 1 Axes>"
      ]
     },
     "metadata": {
      "needs_background": "light"
     },
     "output_type": "display_data"
    }
   ],
   "source": [
    "df[df.outside_zone == 'bottom'].pressure_diff.hist(bins=30)"
   ]
  },
  {
   "cell_type": "code",
   "execution_count": 22,
   "id": "f2ee9312",
   "metadata": {},
   "outputs": [
    {
     "data": {
      "text/plain": [
       "<AxesSubplot:>"
      ]
     },
     "execution_count": 22,
     "metadata": {},
     "output_type": "execute_result"
    },
    {
     "data": {
      "image/png": "[encoded data removed]",
      "text/plain": [
       "<Figure size 432x288 with 1 Axes>"
      ]
     },
     "metadata": {
      "needs_background": "light"
     },
     "output_type": "display_data"
    }
   ],
   "source": [
    "df[df.outside_zone == 'bottom'].sampled_pressures.hist(bins=30)"
   ]
  },
  {
   "cell_type": "code",
   "execution_count": null,
   "id": "74419628",
   "metadata": {},
   "outputs": [],
   "source": []
  }
 ],
 "metadata": {
  "kernelspec": {
   "display_name": "Python 3 (ipykernel)",
   "language": "python",
   "name": "python3"
  },
  "language_info": {
   "codemirror_mode": {
    "name": "ipython",
    "version": 3
   },
   "file_extension": ".py",
   "mimetype": "text/x-python",
   "name": "python",
   "nbconvert_exporter": "python",
   "pygments_lexer": "ipython3",
   "version": "3.9.6"
  }
 },
 "nbformat": 4,
 "nbformat_minor": 5
}
