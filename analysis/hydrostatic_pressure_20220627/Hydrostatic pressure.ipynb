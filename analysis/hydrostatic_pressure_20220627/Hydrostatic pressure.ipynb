{
 "cells": [
  {
   "cell_type": "code",
   "execution_count": 1,
   "id": "9da84691",
   "metadata": {},
   "outputs": [],
   "source": [
    "import logging\n",
    "from os.path import expanduser\n",
    "from pathlib import Path\n",
    "\n",
    "from matplotlib import cm, colors, pyplot as plt\n",
    "import pandas as pd\n",
    "from scipy.spatial import Voronoi, voronoi_plot_2d\n",
    "import seaborn as sns\n",
    "import yaml\n",
    "\n",
    "from fehm_toolkit.config import ModelConfig, PressureConfig\n",
    "from fehm_toolkit.hydrostatic_pressure import compute_hydrostatic_pressure, _read_density_lookup\n",
    "from fehm_toolkit.file_interface import read_grid, read_restart, read_pressure"
   ]
  },
  {
   "cell_type": "code",
   "execution_count": 2,
   "id": "31b75f76",
   "metadata": {},
   "outputs": [],
   "source": [
    "%matplotlib inline"
   ]
  },
  {
   "cell_type": "code",
   "execution_count": 3,
   "id": "fe342c59",
   "metadata": {},
   "outputs": [],
   "source": [
    "logging.basicConfig(level=logging.INFO, format='%(asctime)s (%(levelname)s) %(message)s')"
   ]
  },
  {
   "cell_type": "code",
   "execution_count": 4,
   "id": "cddfa203",
   "metadata": {},
   "outputs": [],
   "source": [
    "toolkit_dir = Path(expanduser('~/repos/fehmToolkit'))\n",
    "DENSITY_LOOKUP = _read_density_lookup(toolkit_dir / 'test' / 'end_to_end' / 'fixtures' / 'nist120-1800.out')"
   ]
  },
  {
   "cell_type": "markdown",
   "id": "4ca0b5b8",
   "metadata": {},
   "source": [
    "# Assess similarity in explicit vs interpolated pressures"
   ]
  },
  {
   "cell_type": "code",
   "execution_count": 5,
   "id": "83f96b49",
   "metadata": {},
   "outputs": [],
   "source": [
    "def compare_pressure_calculations(explicit_config, sampled_config, grid, state) -> pd.DataFrame:\n",
    "    explicit_pressures = compute_hydrostatic_pressure(\n",
    "        grid=grid,\n",
    "        state=state,\n",
    "        pressure_config=explicit_config,\n",
    "        density_lookup_MPa_degC=DENSITY_LOOKUP,\n",
    "    )\n",
    "    sampled_pressures = compute_hydrostatic_pressure(\n",
    "        grid=grid,\n",
    "        state=state,\n",
    "        pressure_config=sampled_config,\n",
    "        density_lookup_MPa_degC=DENSITY_LOOKUP,\n",
    "    )\n",
    "    \n",
    "    x, y, z, depth = {}, {}, {}, {}\n",
    "    for node in grid.nodes:\n",
    "        x[node.number] = node.x\n",
    "        y[node.number] = node.y\n",
    "        z[node.number] = node.z\n",
    "        depth[node.number] = node.depth\n",
    "\n",
    "    single_material_zone = {\n",
    "        node_number: zone.number\n",
    "        for zone in grid.material_zones\n",
    "        for node_number in zone.data\n",
    "    }\n",
    "    single_outside_zone = {\n",
    "        node_number: zone.name\n",
    "        for zone in grid.outside_zones\n",
    "        for node_number in zone.data\n",
    "    }\n",
    "\n",
    "    df = pd.DataFrame(data={\n",
    "        'x': x,\n",
    "        'y': y,\n",
    "        'z': z,\n",
    "        'depth': depth,\n",
    "        'material_zone': single_material_zone,\n",
    "        'outside_zone': single_outside_zone,\n",
    "        'explicit_P': explicit_pressures,\n",
    "        'sampled_P': sampled_pressures,\n",
    "    })\n",
    "\n",
    "    df['explicit_P'] = df.explicit_P * 1000 # kPa\n",
    "    df['sampled_P'] = df.sampled_P * 1000 # kPa\n",
    "    df['delta_P'] = df.sampled_P - df.explicit_P\n",
    "    return df"
   ]
  },
  {
   "cell_type": "markdown",
   "id": "46e5b176",
   "metadata": {},
   "source": [
    "## Flat box"
   ]
  },
  {
   "cell_type": "code",
   "execution_count": 6,
   "id": "ffb1eea8",
   "metadata": {},
   "outputs": [],
   "source": [
    "flat_box_dir = toolkit_dir / 'test' / 'end_to_end' / 'fixtures' / 'flat_box' / 'cond'\n",
    "\n",
    "flat_box_grid = read_grid(\n",
    "    fehm_file=flat_box_dir / 'cond.fehm',\n",
    "    outside_zone_file=flat_box_dir / 'cond_outside.zone',\n",
    "    material_zone_file=flat_box_dir / 'cond_material.zone',\n",
    "    read_elements=False,\n",
    ")\n",
    "flat_box_state, restart_metadata = read_restart(flat_box_dir / 'cond.fin')"
   ]
  },
  {
   "cell_type": "code",
   "execution_count": 7,
   "id": "dc672822",
   "metadata": {},
   "outputs": [
    {
     "name": "stderr",
     "output_type": "stream",
     "text": [
      "2022-07-06 15:35:19,901 (INFO) Generating temperature lookups\n",
      "2022-07-06 15:35:19,903 (INFO) Calculating explicit pressures for 194/194 nodes\n",
      "2022-07-06 15:35:20,363 (INFO) Pressures calculated: 194 / 194\n",
      "2022-07-06 15:35:20,369 (INFO) Generating temperature lookups\n",
      "2022-07-06 15:35:20,370 (INFO) Calculating explicit pressures for 9/194 nodes\n",
      "2022-07-06 15:35:20,381 (INFO) Pressures calculated: 9 / 9\n",
      "2022-07-06 15:35:20,384 (INFO) Sampling with spacing:\n",
      "    x:     333.33\n",
      "    y:     333.33\n",
      "    z:      40.40\n",
      "2022-07-06 15:35:20,385 (INFO) Calculating explicit pressures for 16 sampled columns.\n",
      "2022-07-06 15:35:20,386 (INFO) Pressures calculated:   0%\n",
      "2022-07-06 15:35:20,434 (INFO) Pressures calculated:  75%\n",
      "2022-07-06 15:35:20,450 (INFO) Interpolating remaining node pressures\n"
     ]
    }
   ],
   "source": [
    "flat_box = compare_pressure_calculations(\n",
    "    explicit_config=PressureConfig(\n",
    "        pressure_model=ModelConfig(kind='depth', params={\n",
    "            'z_interval_m': 5,\n",
    "            'reference_z': 4450,\n",
    "            'reference_pressure_MPa': 25,\n",
    "            'reference_temperature_degC': 2,        \n",
    "        }),\n",
    "        interpolation_model=ModelConfig(kind='none', params={}),\n",
    "    ),\n",
    "    sampled_config=PressureConfig(\n",
    "        pressure_model=ModelConfig(kind='depth', params={\n",
    "            'z_interval_m': 5,\n",
    "            'reference_z': 4450,\n",
    "            'reference_pressure_MPa': 25,\n",
    "            'reference_temperature_degC': 2,        \n",
    "        }),\n",
    "        interpolation_model=ModelConfig(kind='regular_grid', params={\n",
    "            'x_samples': 4,\n",
    "            'y_samples': 4,\n",
    "            'z_samples': 100,\n",
    "        }),\n",
    "        sampling_model=ModelConfig(kind='explicit_lists', params={\n",
    "            'explicit_outside_zones': ['top'],\n",
    "        }),\n",
    "    ),\n",
    "    grid=flat_box_grid,\n",
    "    state=flat_box_state,\n",
    ")"
   ]
  },
  {
   "cell_type": "code",
   "execution_count": 8,
   "id": "583718f1",
   "metadata": {},
   "outputs": [
    {
     "data": {
      "text/plain": [
       "<AxesSubplot:>"
      ]
     },
     "execution_count": 8,
     "metadata": {},
     "output_type": "execute_result"
    },
    {
     "data": {
      "image/png": "[encoded data removed]",
      "text/plain": [
       "<Figure size 432x288 with 1 Axes>"
      ]
     },
     "metadata": {
      "needs_background": "light"
     },
     "output_type": "display_data"
    }
   ],
   "source": [
    "flat_box.delta_P.hist(bins=30)"
   ]
  },
  {
   "cell_type": "markdown",
   "id": "8daa039b",
   "metadata": {},
   "source": [
    "# NP 2D"
   ]
  },
  {
   "cell_type": "code",
   "execution_count": 9,
   "id": "7d07867d",
   "metadata": {},
   "outputs": [],
   "source": [
    "np_2d_dir = toolkit_dir / 'matlab_archive' / 'test' / 'fixtures' / 'np2d_cond'\n",
    "\n",
    "np_2d_grid = read_grid(\n",
    "    fehm_file=np_2d_dir / 'cond.fehm',\n",
    "    outside_zone_file=np_2d_dir / 'cond_outside.zone',\n",
    "    material_zone_file=np_2d_dir / 'cond_material.zone',\n",
    "    read_elements=False,\n",
    ")\n",
    "np_2d_state, restart_metadata = read_restart(np_2d_dir / 'cond.fin')"
   ]
  },
  {
   "cell_type": "code",
   "execution_count": 10,
   "id": "965c9bd4",
   "metadata": {},
   "outputs": [
    {
     "name": "stderr",
     "output_type": "stream",
     "text": [
      "2022-07-06 15:35:22,151 (INFO) Generating temperature lookups\n",
      "2022-07-06 15:35:22,163 (INFO) Calculating explicit pressures for 35840/35840 nodes\n",
      "2022-07-06 15:35:36,036 (INFO) Pressures calculated: 10000 / 35840\n",
      "2022-07-06 15:35:50,089 (INFO) Pressures calculated: 20000 / 35840\n",
      "2022-07-06 15:36:06,925 (INFO) Pressures calculated: 30000 / 35840\n",
      "2022-07-06 15:36:17,763 (INFO) Pressures calculated: 35840 / 35840\n",
      "2022-07-06 15:36:17,872 (INFO) Generating temperature lookups\n",
      "2022-07-06 15:36:17,884 (INFO) Calculating explicit pressures for 1009/35840 nodes\n",
      "2022-07-06 15:36:18,594 (INFO) Pressures calculated: 1009 / 1009\n",
      "2022-07-06 15:36:18,597 (INFO) Sampling with spacing:\n",
      "    x:     254.55\n",
      "    z:       4.63\n",
      "2022-07-06 15:36:18,598 (INFO) Calculating explicit pressures for 100 sampled columns.\n",
      "2022-07-06 15:36:18,599 (INFO) Pressures calculated:   0%\n",
      "2022-07-06 15:36:18,637 (INFO) Pressures calculated:  10%\n",
      "2022-07-06 15:36:18,675 (INFO) Pressures calculated:  20%\n",
      "2022-07-06 15:36:18,713 (INFO) Pressures calculated:  30%\n",
      "2022-07-06 15:36:18,750 (INFO) Pressures calculated:  40%\n",
      "2022-07-06 15:36:18,793 (INFO) Pressures calculated:  50%\n",
      "2022-07-06 15:36:18,836 (INFO) Pressures calculated:  60%\n",
      "2022-07-06 15:36:18,875 (INFO) Pressures calculated:  70%\n",
      "2022-07-06 15:36:18,913 (INFO) Pressures calculated:  80%\n",
      "2022-07-06 15:36:18,952 (INFO) Pressures calculated:  90%\n",
      "2022-07-06 15:36:18,991 (INFO) Pressures calculated:  99%\n",
      "2022-07-06 15:36:18,996 (INFO) Interpolating remaining node pressures\n"
     ]
    }
   ],
   "source": [
    "np_2d = compare_pressure_calculations(\n",
    "    explicit_config=PressureConfig(\n",
    "        pressure_model=ModelConfig(kind='depth', params={\n",
    "            'z_interval_m': 5,\n",
    "            'reference_z': 4174.31,\n",
    "            'reference_pressure_MPa': 45.289,\n",
    "            'reference_temperature_degC': 2,\n",
    "        }),\n",
    "        interpolation_model=ModelConfig(kind='none', params={}),\n",
    "    ),\n",
    "    sampled_config=PressureConfig(\n",
    "        pressure_model=ModelConfig(kind='depth', params={\n",
    "            'z_interval_m': 5,\n",
    "            'reference_z': 4174.31,\n",
    "            'reference_pressure_MPa': 45.289,\n",
    "            'reference_temperature_degC': 2,       \n",
    "        }),\n",
    "        interpolation_model=ModelConfig(kind='regular_grid', params={\n",
    "            'x_samples': 100,\n",
    "            'z_samples': 1000,\n",
    "        }),\n",
    "        sampling_model=ModelConfig(kind='explicit_lists', params={\n",
    "            'explicit_outside_zones': ['top'],\n",
    "        }),\n",
    "    ),\n",
    "    grid=np_2d_grid,\n",
    "    state=np_2d_state,\n",
    ")"
   ]
  },
  {
   "cell_type": "code",
   "execution_count": 11,
   "id": "8ebdd2ae",
   "metadata": {},
   "outputs": [
    {
     "data": {
      "text/plain": [
       "<AxesSubplot:>"
      ]
     },
     "execution_count": 11,
     "metadata": {},
     "output_type": "execute_result"
    },
    {
     "data": {
      "image/png": "[encoded data removed]",
      "text/plain": [
       "<Figure size 432x288 with 1 Axes>"
      ]
     },
     "metadata": {
      "needs_background": "light"
     },
     "output_type": "display_data"
    }
   ],
   "source": [
    "np_2d.delta_P.hist(bins=30)"
   ]
  },
  {
   "cell_type": "markdown",
   "id": "ee7fcc38",
   "metadata": {},
   "source": [
    "# JdF 3D"
   ]
  },
  {
   "cell_type": "code",
   "execution_count": 12,
   "id": "91338e4b",
   "metadata": {},
   "outputs": [],
   "source": [
    "jdf_3d_dir = toolkit_dir / 'matlab_archive' / 'test' / 'fixtures' / 'jdf3d_conduit_p12'\n",
    "\n",
    "jdf_3d_grid = read_grid(\n",
    "    fehm_file=jdf_3d_dir / 'p12.fehm',\n",
    "    outside_zone_file=jdf_3d_dir / 'p12_outside.zone',\n",
    "    material_zone_file=jdf_3d_dir / 'p12_material.zone',\n",
    "    read_elements=False,\n",
    ")\n",
    "jdf_3d_state, restart_metadata = read_restart(jdf_3d_dir / 'cond.fin')"
   ]
  },
  {
   "cell_type": "code",
   "execution_count": 13,
   "id": "73ecad9d",
   "metadata": {},
   "outputs": [
    {
     "name": "stderr",
     "output_type": "stream",
     "text": [
      "2022-07-06 15:36:27,987 (INFO) Generating temperature lookups\n",
      "2022-07-06 15:36:28,130 (INFO) Calculating explicit pressures for 396508/396508 nodes\n",
      "2022-07-06 15:36:41,354 (INFO) Pressures calculated: 10000 / 396508\n",
      "2022-07-06 15:36:54,429 (INFO) Pressures calculated: 20000 / 396508\n",
      "2022-07-06 15:37:08,303 (INFO) Pressures calculated: 30000 / 396508\n",
      "2022-07-06 15:37:21,838 (INFO) Pressures calculated: 40000 / 396508\n",
      "2022-07-06 15:37:37,404 (INFO) Pressures calculated: 50000 / 396508\n",
      "2022-07-06 15:37:52,257 (INFO) Pressures calculated: 60000 / 396508\n",
      "2022-07-06 15:38:06,825 (INFO) Pressures calculated: 70000 / 396508\n",
      "2022-07-06 15:38:20,132 (INFO) Pressures calculated: 80000 / 396508\n",
      "2022-07-06 15:38:34,090 (INFO) Pressures calculated: 90000 / 396508\n",
      "2022-07-06 15:38:49,814 (INFO) Pressures calculated: 100000 / 396508\n",
      "2022-07-06 15:39:02,970 (INFO) Pressures calculated: 110000 / 396508\n",
      "2022-07-06 15:39:16,455 (INFO) Pressures calculated: 120000 / 396508\n",
      "2022-07-06 15:39:31,598 (INFO) Pressures calculated: 130000 / 396508\n",
      "2022-07-06 15:39:45,837 (INFO) Pressures calculated: 140000 / 396508\n",
      "2022-07-06 15:40:01,164 (INFO) Pressures calculated: 150000 / 396508\n",
      "2022-07-06 15:40:16,001 (INFO) Pressures calculated: 160000 / 396508\n",
      "2022-07-06 15:40:28,953 (INFO) Pressures calculated: 170000 / 396508\n",
      "2022-07-06 15:40:43,043 (INFO) Pressures calculated: 180000 / 396508\n",
      "2022-07-06 15:40:57,361 (INFO) Pressures calculated: 190000 / 396508\n",
      "2022-07-06 15:41:12,067 (INFO) Pressures calculated: 200000 / 396508\n",
      "2022-07-06 15:41:26,862 (INFO) Pressures calculated: 210000 / 396508\n",
      "2022-07-06 15:41:39,914 (INFO) Pressures calculated: 220000 / 396508\n",
      "2022-07-06 15:41:55,241 (INFO) Pressures calculated: 230000 / 396508\n",
      "2022-07-06 15:42:09,184 (INFO) Pressures calculated: 240000 / 396508\n",
      "2022-07-06 15:42:23,257 (INFO) Pressures calculated: 250000 / 396508\n",
      "2022-07-06 15:42:37,001 (INFO) Pressures calculated: 260000 / 396508\n",
      "2022-07-06 15:42:50,543 (INFO) Pressures calculated: 270000 / 396508\n",
      "2022-07-06 15:43:03,831 (INFO) Pressures calculated: 280000 / 396508\n",
      "2022-07-06 15:43:16,949 (INFO) Pressures calculated: 290000 / 396508\n",
      "2022-07-06 15:43:30,411 (INFO) Pressures calculated: 300000 / 396508\n",
      "2022-07-06 15:43:43,839 (INFO) Pressures calculated: 310000 / 396508\n",
      "2022-07-06 15:43:56,881 (INFO) Pressures calculated: 320000 / 396508\n",
      "2022-07-06 15:44:10,056 (INFO) Pressures calculated: 330000 / 396508\n",
      "2022-07-06 15:44:23,628 (INFO) Pressures calculated: 340000 / 396508\n",
      "2022-07-06 15:44:37,366 (INFO) Pressures calculated: 350000 / 396508\n",
      "2022-07-06 15:44:51,608 (INFO) Pressures calculated: 360000 / 396508\n",
      "2022-07-06 15:45:05,216 (INFO) Pressures calculated: 370000 / 396508\n",
      "2022-07-06 15:45:21,107 (INFO) Pressures calculated: 380000 / 396508\n",
      "2022-07-06 15:45:38,489 (INFO) Pressures calculated: 390000 / 396508\n",
      "2022-07-06 15:45:48,298 (INFO) Pressures calculated: 396508 / 396508\n",
      "2022-07-06 15:45:49,377 (INFO) Generating temperature lookups\n",
      "2022-07-06 15:45:49,498 (INFO) Calculating explicit pressures for 29453/396508 nodes\n",
      "2022-07-06 15:45:58,338 (INFO) Pressures calculated: 10000 / 29453\n",
      "2022-07-06 15:46:08,489 (INFO) Pressures calculated: 20000 / 29453\n",
      "2022-07-06 15:46:16,661 (INFO) Pressures calculated: 29453 / 29453\n",
      "2022-07-06 15:46:16,674 (INFO) Sampling with spacing:\n",
      "    x:    1012.66\n",
      "    y:     817.61\n",
      "    z:       9.02\n",
      "2022-07-06 15:46:16,675 (INFO) Calculating explicit pressures for 12800 sampled columns.\n",
      "2022-07-06 15:46:16,676 (INFO) Pressures calculated:   0%\n",
      "2022-07-06 15:46:22,678 (INFO) Pressures calculated:  12%\n",
      "2022-07-06 15:46:29,424 (INFO) Pressures calculated:  25%\n",
      "2022-07-06 15:46:36,298 (INFO) Pressures calculated:  38%\n",
      "2022-07-06 15:46:43,552 (INFO) Pressures calculated:  50%\n",
      "2022-07-06 15:46:50,095 (INFO) Pressures calculated:  62%\n",
      "2022-07-06 15:46:56,440 (INFO) Pressures calculated:  75%\n",
      "2022-07-06 15:47:03,306 (INFO) Pressures calculated:  88%\n",
      "2022-07-06 15:47:09,014 (INFO) Pressures calculated:  99%\n",
      "2022-07-06 15:47:09,728 (INFO) Interpolating remaining node pressures\n"
     ]
    }
   ],
   "source": [
    "jdf_3d = compare_pressure_calculations(\n",
    "    explicit_config=PressureConfig(\n",
    "        pressure_model=ModelConfig(kind='depth', params={\n",
    "            'z_interval_m': 5,\n",
    "            'reference_z': 4450,\n",
    "            'reference_pressure_MPa': 25,\n",
    "            'reference_temperature_degC': 2,\n",
    "        }),\n",
    "        interpolation_model=ModelConfig(kind='none', params={}),\n",
    "    ),\n",
    "    sampled_config=PressureConfig(\n",
    "        pressure_model=ModelConfig(kind='depth', params={\n",
    "            'z_interval_m': 5,\n",
    "            'reference_z': 4450,\n",
    "            'reference_pressure_MPa': 25,\n",
    "            'reference_temperature_degC': 2,     \n",
    "        }),\n",
    "        interpolation_model=ModelConfig(kind='regular_grid', params={\n",
    "            'x_samples': 80,\n",
    "            'y_samples': 160,\n",
    "            'z_samples': 500,\n",
    "        }),\n",
    "        sampling_model=ModelConfig(kind='explicit_lists', params={\n",
    "            'explicit_outside_zones': ['top'],\n",
    "        }),\n",
    "    ),\n",
    "    grid=jdf_3d_grid,\n",
    "    state=jdf_3d_state,\n",
    ")"
   ]
  },
  {
   "cell_type": "code",
   "execution_count": 14,
   "id": "a385d229",
   "metadata": {},
   "outputs": [
    {
     "data": {
      "text/plain": [
       "<AxesSubplot:>"
      ]
     },
     "execution_count": 14,
     "metadata": {},
     "output_type": "execute_result"
    },
    {
     "data": {
      "image/png": "[encoded data removed]",
      "text/plain": [
       "<Figure size 432x288 with 1 Axes>"
      ]
     },
     "metadata": {
      "needs_background": "light"
     },
     "output_type": "display_data"
    }
   ],
   "source": [
    "jdf_3d.delta_P.hist(bins=30)"
   ]
  },
  {
   "cell_type": "code",
   "execution_count": 15,
   "id": "d5f41792",
   "metadata": {},
   "outputs": [
    {
     "data": {
      "text/plain": [
       "<AxesSubplot:>"
      ]
     },
     "execution_count": 15,
     "metadata": {},
     "output_type": "execute_result"
    },
    {
     "data": {
      "image/png": "[encoded data removed]",
      "text/plain": [
       "<Figure size 432x288 with 1 Axes>"
      ]
     },
     "metadata": {
      "needs_background": "light"
     },
     "output_type": "display_data"
    }
   ],
   "source": [
    "jdf_3d[jdf_3d.outside_zone == 'top'].delta_P.hist(bins=30)"
   ]
  },
  {
   "cell_type": "code",
   "execution_count": 16,
   "id": "28204f8a",
   "metadata": {},
   "outputs": [
    {
     "data": {
      "text/plain": [
       "<AxesSubplot:>"
      ]
     },
     "execution_count": 16,
     "metadata": {},
     "output_type": "execute_result"
    },
    {
     "data": {
      "image/png": "[encoded data removed]",
      "text/plain": [
       "<Figure size 432x288 with 1 Axes>"
      ]
     },
     "metadata": {
      "needs_background": "light"
     },
     "output_type": "display_data"
    }
   ],
   "source": [
    "jdf_3d[jdf_3d.outside_zone == 'bottom'].delta_P.hist(bins=30)"
   ]
  },
  {
   "cell_type": "code",
   "execution_count": 17,
   "id": "f2ee9312",
   "metadata": {},
   "outputs": [
    {
     "data": {
      "text/plain": [
       "<AxesSubplot:>"
      ]
     },
     "execution_count": 17,
     "metadata": {},
     "output_type": "execute_result"
    },
    {
     "data": {
      "image/png": "[encoded data removed]",
      "text/plain": [
       "<Figure size 432x288 with 1 Axes>"
      ]
     },
     "metadata": {
      "needs_background": "light"
     },
     "output_type": "display_data"
    }
   ],
   "source": [
    "jdf_3d[jdf_3d.outside_zone == 'bottom'].explicit_P.hist(bins=30)"
   ]
  },
  {
   "cell_type": "code",
   "execution_count": 18,
   "id": "74419628",
   "metadata": {},
   "outputs": [
    {
     "data": {
      "text/plain": [
       "<AxesSubplot:xlabel='y', ylabel='explicit_P'>"
      ]
     },
     "execution_count": 18,
     "metadata": {},
     "output_type": "execute_result"
    },
    {
     "data": {
      "image/png": "[encoded data removed]",
      "text/plain": [
       "<Figure size 432x288 with 1 Axes>"
      ]
     },
     "metadata": {
      "needs_background": "light"
     },
     "output_type": "display_data"
    }
   ],
   "source": [
    "jdf_3d[jdf_3d.outside_zone == 'bottom'].plot(x='y', y='explicit_P', kind='scatter')"
   ]
  },
  {
   "cell_type": "code",
   "execution_count": 19,
   "id": "23c7bb89",
   "metadata": {},
   "outputs": [],
   "source": [
    "def plot_vornoi(plot_data: pd.DataFrame, plot_cols: list, value_col: str, aspect='equal'):\n",
    "    vor = Voronoi((plot_data[plot_cols] / 1000).values)\n",
    "    values = plot_data[value_col].values\n",
    "\n",
    "    norm = colors.Normalize(vmin=min(values), vmax=max(values), clip=True)\n",
    "    mapper = cm.ScalarMappable(norm=norm, cmap=cm.Reds)\n",
    "\n",
    "    fig, ax = plt.subplots(figsize=(8, 8))\n",
    "    voronoi_plot_2d(vor, show_points=False, show_vertices=False, line_width=0.3, ax=ax)\n",
    "    for region_index, region_values in zip(vor.point_region, values):\n",
    "        region = vor.regions[region_index]\n",
    "        if -1 in region:\n",
    "            continue\n",
    "\n",
    "        polygon = [vor.vertices[i] for i in region]\n",
    "        ax.fill(*zip(*polygon), color=mapper.to_rgba(region_values))\n",
    "\n",
    "    if aspect is not None:\n",
    "        ax.set_aspect(aspect)\n",
    "    ax.set_xlabel(r'x ($km$)')\n",
    "    ax.set_ylabel(r'y ($km$)')\n",
    "    plt.colorbar(mapper, ax=ax)"
   ]
  },
  {
   "cell_type": "code",
   "execution_count": 20,
   "id": "67f9aed6",
   "metadata": {},
   "outputs": [
    {
     "data": {
      "image/png": "[encoded data removed]",
      "text/plain": [
       "<Figure size 576x576 with 2 Axes>"
      ]
     },
     "metadata": {
      "needs_background": "light"
     },
     "output_type": "display_data"
    }
   ],
   "source": [
    "plot_vornoi(jdf_3d[jdf_3d.outside_zone == 'bottom'], ['x', 'y'], 'sampled_P')"
   ]
  },
  {
   "cell_type": "code",
   "execution_count": 21,
   "id": "59b1a6fe",
   "metadata": {},
   "outputs": [
    {
     "data": {
      "text/html": [
       "<div>\n",
       "<style scoped>\n",
       "    .dataframe tbody tr th:only-of-type {\n",
       "        vertical-align: middle;\n",
       "    }\n",
       "\n",
       "    .dataframe tbody tr th {\n",
       "        vertical-align: top;\n",
       "    }\n",
       "\n",
       "    .dataframe thead th {\n",
       "        text-align: right;\n",
       "    }\n",
       "</style>\n",
       "<table border=\"1\" class=\"dataframe\">\n",
       "  <thead>\n",
       "    <tr style=\"text-align: right;\">\n",
       "      <th></th>\n",
       "      <th>x</th>\n",
       "      <th>y</th>\n",
       "      <th>z</th>\n",
       "      <th>depth</th>\n",
       "      <th>material_zone</th>\n",
       "      <th>outside_zone</th>\n",
       "      <th>explicit_P</th>\n",
       "      <th>sampled_P</th>\n",
       "      <th>delta_P</th>\n",
       "    </tr>\n",
       "  </thead>\n",
       "  <tbody>\n",
       "    <tr>\n",
       "      <th>1</th>\n",
       "      <td>42500.0</td>\n",
       "      <td>40500.0</td>\n",
       "      <td>4000.0</td>\n",
       "      <td>0.0</td>\n",
       "      <td>1</td>\n",
       "      <td>top</td>\n",
       "      <td>29470.96084</td>\n",
       "      <td>29470.96084</td>\n",
       "      <td>0.0</td>\n",
       "    </tr>\n",
       "    <tr>\n",
       "      <th>2</th>\n",
       "      <td>43000.0</td>\n",
       "      <td>40500.0</td>\n",
       "      <td>4000.0</td>\n",
       "      <td>0.0</td>\n",
       "      <td>1</td>\n",
       "      <td>top</td>\n",
       "      <td>29470.96084</td>\n",
       "      <td>29470.96084</td>\n",
       "      <td>0.0</td>\n",
       "    </tr>\n",
       "    <tr>\n",
       "      <th>3</th>\n",
       "      <td>43500.0</td>\n",
       "      <td>40500.0</td>\n",
       "      <td>4000.0</td>\n",
       "      <td>0.0</td>\n",
       "      <td>1</td>\n",
       "      <td>top</td>\n",
       "      <td>29470.96084</td>\n",
       "      <td>29470.96084</td>\n",
       "      <td>0.0</td>\n",
       "    </tr>\n",
       "    <tr>\n",
       "      <th>4</th>\n",
       "      <td>44000.0</td>\n",
       "      <td>40500.0</td>\n",
       "      <td>4000.0</td>\n",
       "      <td>0.0</td>\n",
       "      <td>1</td>\n",
       "      <td>top</td>\n",
       "      <td>29470.96084</td>\n",
       "      <td>29470.96084</td>\n",
       "      <td>0.0</td>\n",
       "    </tr>\n",
       "    <tr>\n",
       "      <th>5</th>\n",
       "      <td>44500.0</td>\n",
       "      <td>40500.0</td>\n",
       "      <td>4000.0</td>\n",
       "      <td>0.0</td>\n",
       "      <td>1</td>\n",
       "      <td>top</td>\n",
       "      <td>29470.96084</td>\n",
       "      <td>29470.96084</td>\n",
       "      <td>0.0</td>\n",
       "    </tr>\n",
       "  </tbody>\n",
       "</table>\n",
       "</div>"
      ],
      "text/plain": [
       "         x        y       z  depth  material_zone outside_zone   explicit_P  \\\n",
       "1  42500.0  40500.0  4000.0    0.0              1          top  29470.96084   \n",
       "2  43000.0  40500.0  4000.0    0.0              1          top  29470.96084   \n",
       "3  43500.0  40500.0  4000.0    0.0              1          top  29470.96084   \n",
       "4  44000.0  40500.0  4000.0    0.0              1          top  29470.96084   \n",
       "5  44500.0  40500.0  4000.0    0.0              1          top  29470.96084   \n",
       "\n",
       "     sampled_P  delta_P  \n",
       "1  29470.96084      0.0  \n",
       "2  29470.96084      0.0  \n",
       "3  29470.96084      0.0  \n",
       "4  29470.96084      0.0  \n",
       "5  29470.96084      0.0  "
      ]
     },
     "execution_count": 21,
     "metadata": {},
     "output_type": "execute_result"
    }
   ],
   "source": [
    "jdf_3d.head()"
   ]
  },
  {
   "cell_type": "code",
   "execution_count": null,
   "id": "9e35914b",
   "metadata": {},
   "outputs": [],
   "source": []
  }
 ],
 "metadata": {
  "kernelspec": {
   "display_name": "Python 3 (ipykernel)",
   "language": "python",
   "name": "python3"
  },
  "language_info": {
   "codemirror_mode": {
    "name": "ipython",
    "version": 3
   },
   "file_extension": ".py",
   "mimetype": "text/x-python",
   "name": "python",
   "nbconvert_exporter": "python",
   "pygments_lexer": "ipython3",
   "version": "3.9.6"
  }
 },
 "nbformat": 4,
 "nbformat_minor": 5
}
